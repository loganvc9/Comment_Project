{
 "cells": [
  {
   "cell_type": "markdown",
   "metadata": {
    "collapsed": false,
    "id": "jNdX9Uafq4xJ"
   },
   "source": [
    "#**OUTPUT**#\n",
    "Course Description (From OES Handbook/Course Curriculum Guide)"
   ]
  },
  {
   "cell_type": "code",
   "execution_count": 8,
   "metadata": {
    "cocalc": {
     "outputs": {
      "0": {
       "name": "input",
       "opts": {
        "password": false,
        "prompt": "What personalized comment would you like to add?"
       },
       "output_type": "stream",
       "value": "Keep up the good work!"
      }
     }
    },
    "collapsed": false,
    "id": "sszj64CJvaE0"
   },
   "outputs": [
    {
     "name": "stdout",
     "output_type": "stream",
     "text": "What personalized comment would you like to add? Keep up the good work!"
    },
    {
     "name": "stdout",
     "output_type": "stream",
     "text": [
      "Hey, Student1, it has been a long semester and I have some feedback for you.\n",
      "\n",
      "It’s nice to have you in class! You are doing well in class and your tests have reflected your skills very well. I believe you have a firm understanding of the concepts, and I hope that you continue to demonstrate your skills throughout the second semester. I always love hearing your interesting opinions, and I appreciate that you are talking every class. Continue to keep up the good work, and don’t hesitate to ask a question or two whenever you need help or clarification. You have done a great job of completing the nightly homework, and have shown that you understand the material very well. I hope that you continue this work next semester, and let me know if you have any questions. You are doing a great job in class this semester. You have shown great comprehension of the class material and are always willing to back up your ideas with evidence. Great job! You seem to be enjoying the class, however you don’t seem to be actively engaging with the material or myself. I would encourage you to be a little more present next semester. You are doing a good job at applying my feedback to your work. You have elevated the quality of your work on multiple occasions due to utilization of my suggestions. Continue this habit next semester! Keep up the good work! This semester has been a little rough, but I believe that you have a lot of opportunities. I hope you work hard to improve in the areas where you need it, and I feel that you will become a strong student in this class.\n"
     ]
    }
   ],
   "source": [
    "import csv\n",
    "\n",
    "#ERA stands for English & Religion & Art\n",
    "\n",
    "#Scoring to Index Guide:\n",
    "#Beginning: 0\n",
    "#Approaching: 1\n",
    "#Proficient: 2\n",
    "#Ready: 3\n",
    "\n",
    "name = 'Logan'\n",
    "\n",
    "comments = {\"intro_outro\": {\"startup\" : [f\"It’s nice to work with you in class!\"\n",
    "            , f\"It’s nice to have you in class!\"\n",
    "            , f\"Your presence in [class] is crucial to our class!\"]\n",
    "            ,\"closing\": [f\"This semester has been a little rough, but I believe that you have a lot of opportunities. I hope you work hard to improve in the areas where you need it, and I feel that you will become a strong student in this class.\"\n",
    "            ,\"Overall, you have shown adequate skills throughout the semester. You have room for growth and I see potential in you. The next step in this course for you is to apply the suggestions I have given you, and work to grow in the areas where you need some improvement.\"\n",
    "            ,\"Overall, you have demonstrated a lot of good work this semester. I have enjoyed your opinions and ideas in class and I hope that you continue to produce good work and keep a good attitude.\"\n",
    "            ,\"Overall, you have been an amazing student this semester. All of your work is very strong, and your ideas never fail to peak my curiosity. You demonstrate strength in many areas, and I hope you continue to show steady progress.\"]}\n",
    "            , \"STEM\": {\"test_quizgrade\": [f\"You have started to demonstrate your ability to apply knowledge learned during this semester to your exams, however, you are missing a lot of key concepts.\"\n",
    "            , f\"You seem to be doing okay with problem solving and comprehension of the material. From grading your exams, I believe there is still room for improvement, however you are starting to really grasp the concepts taught so far.\"\n",
    "            , f\"You are doing well in class and your tests have reflected your skills very well. I believe you have a firm understanding of the concepts, and I hope that you continue to demonstrate your skills throughout the second semester.\"\n",
    "            , f\"Your strong understanding of the material we have covered is shown on your exams. You have been receiving good grades and I hope you continue to produce strong results next semester.\"]\n",
    "            , \"inclass_participation\": [f\"I enjoy having you in class, but I rarely hear your voice. I would love to hear more from you so that your great ideas can be shared with the rest of the class. If you ever have any questions, feel free to talk to me or ask anytime.\"\n",
    "            , f\"Although you occasionally offer your input, I believe that you should aim to participate more in class discussions. I know you have great ideas, and I want you to share with the class a little bit more.\"\n",
    "            , f\"I always love hearing your interesting opinions, and I appreciate that you are talking every class. Continue to keep up the good work, and don’t hesitate to ask a question or two whenever you need help or clarification.\"\n",
    "            , f\"Having you in class, has been wonderful. You are constantly sharing your great ideas and helping others with your knowledge. Don’t stop participating next semester, and I hope that you continue to thrive.\"]\n",
    "            , \"daily_homework\": [f\"I have noticed that you are not regularly completing the homework, and at times you are having trouble completing it. Please let me know whenever you have trouble, and we should start meeting after school to sort out whatever questions you have.\"\n",
    "            , f\"You complete the homework assignments most nights, however you seem to be struggling to understand the material. You have shown pretty strong skills in class, but there is a lot of room for growth on the homework.\"\n",
    "            , f\"You have consistently completed the homework assignments and have been able to demonstrate good understanding of the material. Keep up the good work next semester.\"\n",
    "            , f\"You have done a great job of completing the nightly homework, and have shown that you understand the material very well. I hope that you continue this work next semester, and let me know if you have any questions.\"]\n",
    "            , \"understanding\": [f\"You seem to be struggling with your understanding of the material we have learned. You are able to demonstrate some conceptual understanding, but there is a lot of room for improvement.\"\n",
    "            , f\"Having you in class this semester has been enjoyable, and your conceptual understanding is pretty good. I feel that you should go back and analyze our class material a few times just so that your comprehension is a little better.\"\n",
    "            , f\"You are doing a great job in class this semester. You have shown great comprehension of the class material and are always willing to back up your ideas with evidence. Great job!\"\n",
    "            , f\"You have shown excellent work this semester. Your ability to evaluate and make connections between different materials is very good. Keep up the good work next semester!\"]\n",
    "            , \"fun\": [f\"You always seem a bit dull when you walk into class. I have noticed that you don’t seem to want to participate in class very often, although I wish you would. Try and take a more positive approach next semester.\"\n",
    "            , f\"You seem to be enjoying the class, however you don’t seem to be actively engaging with the material or myself. I would encourage you to be a little more present next semester.\"\n",
    "            , f\"You always seem to be enjoying the class. I enjoy your positive attitude towards the material and willingness to engage in the material. Keep up the good work.\"\n",
    "            , f\"You have been a delight to have in class this semester. You are always excited to learn regardless of the difficulty or length of an assignment or the material. I hope you continue to display this enthusiasm next semester.\"]\n",
    "            , \"suggestion_response\": [f\"I have given you feedback on all of your assignments, however, I haven’t noticed much change in your work after the fact. I encourage you to utilize my feedback to improve the quality of your work.\"\n",
    "            , f\"You seem to be trying to implement my feedback into your work, however, I believe that you aren’t fully examining my comments. Your work improves a little bit after revision, but I hope that you put a little more effort into it.\"\n",
    "            , f\"You are doing a good job at applying my feedback to your work. You have elevated the quality of your work on multiple occasions due to utilization of my suggestions. Continue this habit next semester!\"\n",
    "            , f\"You are doing a great job at applying my feedback to your work. I enjoy watching you improve as you take suggestions and use them to your advantage. Keep up the good work!\"]} \n",
    "            , \"ERA\": {\"test_quizgrade\":[f\"You really need to work up to keep up with what’s going on in class. Even for some analysis of articles, you could understand the meaning by using some literary technique, but your performance on quizzes still needs improvement.\"\n",
    "            ,f\"You are doing a good job in the class! In some quizzes, you showed your improvement on understanding of the materials gradually about what we used in class.\"\n",
    "            ,f\"You showed a clear understanding of texts and phrases to answer all the questions that have been asked in quizzes, and you are good to proceed to the next level of this class.\"\n",
    "            ,f\"You nailed all the quizzes that have been put into class! It was a pleasure to see your quiz without using any of the red ink. Keep up the good work!\"]\n",
    "            , \"inclass_participation\": [f\"I understand that sometimes people could be introverts. But other students in the class really need your voice more. Without each others’ contributions, this class wouldn’t have made it.\"\n",
    "            ,f\"The discussion part of [classname] is very necessary for understanding the materials, but you did it great! It’s nice to see you walking out of your comfort zone and trying to voice out your opinions in group work.\"\n",
    "            ,f\"You did a great job on class discussions, and you should be proud. Your contributions to In-class participation are proficient and everybody in your group looks up to your opinion in different discussion events. Keep on going!\"\n",
    "            ,f\"Your contributions to the discussion were awesome. You brought in so many different ideas and lenses to the conversation and made the room more lively and energetic. You really showed your participation in group work, and I am grateful to see it.\"]\n",
    "            , \"daily_homework\": [f\"You have to get your work done. I understand sometimes homework from a [classname] class could be difficult, but it’s important for your progress in learning.\"\n",
    "            ,f\"Daily homework is one of the parts you probably need to work on. Those assignments have been handed in a little bit late, but I could see the quality of your work. Please make sure your daily schedule is suitable for doing your homework.\"\n",
    "            ,f\"It’s nice to see you doing the daily homework well. It wasn’t a great requirement, and you did it mostly on time with nice ideas posted.\"\n",
    "            ,f\"The homework situation was something that I have never worried about you. You are great at doing this thing, and I also know that from your advisor.\"]\n",
    "            , \"understanding\": [f\"It sounds like you had a lot of difficulties understanding the concepts of the class. Especially when we are having topics that require your understanding, you sometimes don’t know what the course goal is.\"\n",
    "            ,f\"You showed your improvements in understanding concepts, and it’s nice to see you learning new things.\"\n",
    "            ,f\"You do understand the course goals that take an effort in to understand. I’d say you are proficient in the deeper level of advanced academic fields.\"\n",
    "            ,f\"On the requirements of understanding concepts, you mastered it. You could even teach them to middle schoolers! Again, extraordinary in different units that we passed by.\"]\n",
    "            , \"fun\": [f\"Even though is nice to see you were serious when diving into some of our topics, but in some practices we had you are not having a good time. One of the main goals of this class is to have fun learning. Hoping to see more smiling faces out of you!\"\n",
    "            ,f\"You are having fun learning! It’s happy to see you enjoy this class, even sometimes there are hard topics, you still managed to stay focused and on. Keep up the good work!\"\n",
    "            ,f\"You really understand what you are looking for in class. One of our main goals in this class is to have fun, and you did it!\"\n",
    "            ,f\"Your humor brings out the best of even other classmates. For the practices in our class, you infused your positivity into the class. Thank you for bringing that in!\"]\n",
    "            , \"suggestion_response\": [f\"A crucial factor of your improvement and learning skills comes out of communication and help from others, and you need to work on it in the future.\"\n",
    "            ,f\"Having confidence in your work is good, but listening to the opinions of others is even better. I could see some well-thought work after you ask for suggestions. Good job!\"\n",
    "            ,f\"You brought up many great questions that would be nice to support your understanding of topics, and you know your progress in work. Nice!  \"\n",
    "            ,f\"For responding to suggestions and making communications with me or your classmates, you definitely are a good listener and learner of others. You also showed respect to every comment you received, and value every feedback that I gave. Good job!\"]}}\n",
    "\n",
    "teacher_input = input(\"What personalized comment would you like to add?\")\n",
    "\n",
    "\n",
    "\n",
    "with open('student.csv') as students:\n",
    "    next(students)\n",
    "    for s in students:\n",
    "        s = s.split(\",\")\n",
    "\n",
    "        name = s[0]\n",
    "        startup = comments['intro_outro']['startup'][int(s[1])]\n",
    "        closing = comments['intro_outro']['closing'][int(s[2])]\n",
    "        if s[3] == '1':\n",
    "            test_quizgrade = comments['STEM']['test_quizgrade'][int(s[5])]\n",
    "            participation = comments['STEM']['inclass_participation'][int(s[6])]\n",
    "            daily_homework = comments['STEM']['daily_homework'][int(s[7])]\n",
    "            understanding = comments['STEM']['understanding'][int(s[8])]\n",
    "            fun = comments['STEM']['fun'][int(s[9])]\n",
    "            suggestion_response = comments['STEM']['suggestion_response'][int(s[10])]\n",
    "        else:\n",
    "            test_quizgrade = comments['ERA']['test_quizgrade'][int(s[5])]\n",
    "            participation = comments['ERA']['inclass_participation'][int(s[6])]\n",
    "            daily_homework = comments['ERA']['daily_homework'][int(s[7])]\n",
    "            understanding = comments['ERA']['understanding'][int(s[8])]\n",
    "            fun = comments['ERA']['fun'][int(s[9])]\n",
    "            suggestion_response = comments['STEM']['suggestion_response'][int(s[10])]\n",
    "\n",
    "        with open(f\"{s[0]}.txt\", \"w\") as comment:\n",
    "            comment.write(f\"Hey, {name}, it has been a long semester and I have some feedback for you.\\n{startup} {test_quizgrade} {participation} {daily_homework} {understanding} {fun} {suggestion_response} {teacher_input} {closing}\")\n",
    "\n",
    "with open(\"Student1.txt\") as Student1:\n",
    "    for line in Student1:\n",
    "        print(line)"
   ]
  },
  {
   "cell_type": "code",
   "execution_count": 0,
   "metadata": {
    "collapsed": false,
    "id": "ggMt3kNpjyZj"
   },
   "outputs": [
   ],
   "source": [
   ]
  }
 ],
 "metadata": {
  "colab": {
   "collapsed_sections": [
   ],
   "name": "Logan, Frank - Comment Project.ipynb",
   "provenance": [
   ]
  },
  "kernelspec": {
   "display_name": "Python 3 (system-wide)",
   "language": "python",
   "metadata": {
    "cocalc": {
     "description": "Python 3 programming language",
     "priority": 100,
     "url": "https://www.python.org/"
    }
   },
   "name": "python3",
   "resource_dir": "/ext/jupyter/kernels/python3"
  },
  "language_info": {
   "codemirror_mode": {
    "name": "ipython",
    "version": 3
   },
   "file_extension": ".py",
   "mimetype": "text/x-python",
   "name": "python",
   "nbconvert_exporter": "python",
   "pygments_lexer": "ipython3",
   "version": "3.8.10"
  }
 },
 "nbformat": 4,
 "nbformat_minor": 4
}